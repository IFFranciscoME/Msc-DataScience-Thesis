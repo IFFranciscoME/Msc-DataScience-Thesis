{
 "cells": [
  {
   "cell_type": "code",
   "execution_count": 4,
   "metadata": {
    "slideshow": {
     "slide_type": "skip"
    }
   },
   "outputs": [
    {
     "data": {
      "text/html": [
       "<style>.container { width:100% !important; }</style>"
      ],
      "text/plain": [
       "<IPython.core.display.HTML object>"
      ]
     },
     "metadata": {},
     "output_type": "display_data"
    }
   ],
   "source": [
    "from IPython.core.display import display, HTML\n",
    "display(HTML(\"<style>.container { width:100% !important; }</style>\"))\n",
    "display(HTML(\"<style>.output_result { width:100% !important; }</style>\"))"
   ]
  },
  {
   "cell_type": "markdown",
   "metadata": {
    "slideshow": {
     "slide_type": "slide"
    }
   },
   "source": [
    "<img src=\"http://oci02.img.iteso.mx/identidad_de_instancia_2018/ITESO/Logos%20ITESO/Logo-ITESO-Principal.jpg\" align=\"center\">"
   ]
  },
  {
   "cell_type": "markdown",
   "metadata": {
    "slideshow": {
     "slide_type": "-"
    }
   },
   "source": [
    "<center> <font color= #004A94> <font size = 6> M.sc Ciencia de Datos </font>\n",
    "<center> <font color= #004A94> <font size = 5> Investigación, Desarrollo e Innovación III </font> <br> <br>\n",
    "    \n",
    "<center> <font color= #004A94> <font size = 6> Estabilidad Paramétrica en Modelos de Machine Learning: </font> <br>\n",
    "    \n",
    "<center> <font color= #004A94> <font size = 6> Aplicaciones en Sistemas de Trading </font> <br> <br> <br> \n",
    "    \n",
    "<center> <font color= #047CFB> <font size = 4> Presenta: Juan Francisco Muñoz-Elguezabal - franciscome@iteso.mx </font> <br> <br>\n",
    "<center> <font color= #047CFB> <font size = 4> Asesor: Juan Diego Sanchez Torres - dsanchez@iteso.mx </font> <br> <br>"
   ]
  },
  {
   "cell_type": "code",
   "execution_count": 3,
   "metadata": {
    "slideshow": {
     "slide_type": "slide"
    }
   },
   "outputs": [],
   "source": [
    "import pandas as pd        # Pandas "
   ]
  },
  {
   "cell_type": "markdown",
   "metadata": {
    "slideshow": {
     "slide_type": "slide"
    }
   },
   "source": [
    "<font color= #6B6B6B> <font size = 6> Titulo </font>"
   ]
  },
  {
   "cell_type": "markdown",
   "metadata": {
    "slideshow": {
     "slide_type": "-"
    }
   },
   "source": [
    "obs_class = list(global_features['train_y']) + list(global_features['test_y'])\n",
    "obs_class = [-1 if x == 0 else 1 for x in obs_class]\n",
    "\n",
    "model_data = global_models['model_1']['auc_min']['results']['data']\n",
    "pred_class = list(model_data['train']['y_train_pred']) + list(model_data['test']['y_test_pred'])\n",
    "pred_class = [-1 if x == 0 else 1 for x in pred_class]"
   ]
  },
  {
   "cell_type": "markdown",
   "metadata": {
    "slideshow": {
     "slide_type": "-"
    }
   },
   "source": [
    "<center> <font color= #047CFB> <font size = 4> |  IDI-III : franciscome@iteso.mx  | Sección  | Tema  |  Pag 1 de 2 </font> <br> <br>"
   ]
  },
  {
   "cell_type": "code",
   "execution_count": null,
   "metadata": {},
   "outputs": [],
   "source": []
  }
 ],
 "metadata": {
  "celltoolbar": "Slideshow",
  "kernelspec": {
   "display_name": "Python 3",
   "language": "python",
   "name": "python3"
  },
  "language_info": {
   "codemirror_mode": {
    "name": "ipython",
    "version": 3
   },
   "file_extension": ".py",
   "mimetype": "text/x-python",
   "name": "python",
   "nbconvert_exporter": "python",
   "pygments_lexer": "ipython3",
   "version": "3.8.5"
  }
 },
 "nbformat": 4,
 "nbformat_minor": 4
}
